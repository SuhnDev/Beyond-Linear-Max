{
  "nbformat": 4,
  "nbformat_minor": 0,
  "metadata": {
    "colab": {
      "provenance": [],
      "authorship_tag": "ABX9TyMTEg9pEoxWRRcGO4bJTSlY",
      "include_colab_link": true
    },
    "kernelspec": {
      "name": "python3",
      "display_name": "Python 3"
    },
    "language_info": {
      "name": "python"
    }
  },
  "cells": [
    {
      "cell_type": "markdown",
      "metadata": {
        "id": "view-in-github",
        "colab_type": "text"
      },
      "source": [
        "<a href=\"https://colab.research.google.com/github/SuhnDev/Beyond-Linear-Max/blob/main/notebooks/demo.ipynb\" target=\"_parent\"><img src=\"https://colab.research.google.com/assets/colab-badge.svg\" alt=\"Open In Colab\"/></a>"
      ]
    },
    {
      "cell_type": "code",
      "source": [
        "!pip install matplotlib\n",
        "!git clone https://github.com/SuhnDev/Beyond-Linear-Max.git\n",
        "%cd Beyond-Linear-Max\n",
        "!pip install -r requirements.txt\n",
        "!python cost_aware_maximum_finding.py --post-iters 1500 --plot"
      ],
      "metadata": {
        "id": "ty1HaARDwvW_"
      },
      "execution_count": null,
      "outputs": []
    }
  ]
}