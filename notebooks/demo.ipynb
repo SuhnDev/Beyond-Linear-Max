{
  "nbformat": 4,
  "nbformat_minor": 0,
  "metadata": {
    "colab": {
      "provenance": [],
      "authorship_tag": "ABX9TyPnsudkqaOLiK5n7G2NNfvD",
      "include_colab_link": true
    },
    "kernelspec": {
      "name": "python3",
      "display_name": "Python 3"
    },
    "language_info": {
      "name": "python"
    }
  },
  "cells": [
    {
      "cell_type": "markdown",
      "metadata": {
        "id": "view-in-github",
        "colab_type": "text"
      },
      "source": [
        "<a href=\"https://colab.research.google.com/github/SuhnDev/Beyond-Linear-Max/blob/main/notebooks/demo.ipynb\" target=\"_parent\"><img src=\"https://colab.research.google.com/assets/colab-badge.svg\" alt=\"Open In Colab\"/></a>"
      ]
    },
    {
      "cell_type": "code",
      "source": [
        "##----------------------------------\n",
        "## 📌 Choose one scenario (uncomment)\n",
        "\n",
        "args = \"--compare\"\n",
        "## Baseline comparison (no post-processing)\n",
        "## Linear vs Cost-Aware on plain max search\n",
        "## → Cost-Aware may be slightly slower due to filtering overhead\n",
        "\n",
        "# args = \"--compare --post-iters 1500 --threshold 0.8 --seed 42\"\n",
        "## Heavy post-processing comparison\n",
        "## Linear: applies expensive work to every element\n",
        "## Cost-Aware: applies expensive work only to candidates (~top 20%)\n",
        "## → Cost-Aware becomes much faster when post-processing dominates\n",
        "\n",
        "# args = \"--compare --known-upper 1000000 --post-iters 1500 --threshold 0.8 --seed 42\"\n",
        "## Known upper bound scenario\n",
        "## The true maximum possible value is already known\n",
        "## → Skip the initial scan and directly compute cutoff\n",
        "## → Further improves Cost-Aware efficiency, especially for large n\n",
        "\n",
        "# args = \"--compare --sample-size 1000 --post-iters 1500 --threshold 0.8 --seed 42\"\n",
        "## Sample-based upper bound estimation\n",
        "## Estimate cutoff from a small random sample (1000 elements)\n",
        "## → Reduces overhead for large n\n",
        "## → But if the sample underestimates the max, the candidate set grows and speedup decreases\n",
        "\n",
        "##----------------------------------\n",
        "\n",
        "!python cost_aware_maximum_finding.py $args --plot\n",
        "\n",
        "from IPython.display import Image, display\n",
        "display(Image(\"demo_plot.png\"))\n"
      ],
      "metadata": {
        "id": "LpLdbuB25IVd",
        "colab": {
          "base_uri": "https://localhost:8080/"
        },
        "outputId": "53ae35c4-b46f-4fe1-b355-688477e5c06d"
      },
      "execution_count": null,
      "outputs": [
        {
          "output_type": "stream",
          "name": "stdout",
          "text": [
            "python3: can't open file '/content/cost_aware_maximum_finding.py': [Errno 2] No such file or directory\n"
          ]
        }
      ]
    }
  ]
}