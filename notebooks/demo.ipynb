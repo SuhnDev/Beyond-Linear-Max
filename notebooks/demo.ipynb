{
  "nbformat": 4,
  "nbformat_minor": 0,
  "metadata": {
    "colab": {
      "provenance": [],
      "authorship_tag": "ABX9TyMRpf0mNsljObP3VqpoVzev",
      "include_colab_link": true
    },
    "kernelspec": {
      "name": "python3",
      "display_name": "Python 3"
    },
    "language_info": {
      "name": "python"
    }
  },
  "cells": [
    {
      "cell_type": "markdown",
      "metadata": {
        "id": "view-in-github",
        "colab_type": "text"
      },
      "source": [
        "<a href=\"https://colab.research.google.com/github/SuhnDev/Beyond-Linear-Max/blob/main/notebooks/demo.ipynb\" target=\"_parent\"><img src=\"https://colab.research.google.com/assets/colab-badge.svg\" alt=\"Open In Colab\"/></a>"
      ]
    },
    {
      "cell_type": "code",
      "source": [
        "##----------------------------------\n",
        "##📌 Choose one scenario (uncomment)\n",
        "args = \"--compare\"\n",
        "#args = \"--compare --post-iters 1500\"\n",
        "#args = \"--compare --known-upper 1000000 --post-iters 1500\"\n",
        "#args = \"--compare --sample-size 1000 --post-iters 1500\"\n",
        "##----------------------------------\n",
        "\n",
        "!python cost_aware_maximum_finding.py {args} --plot\n"
      ],
      "metadata": {
        "id": "LpLdbuB25IVd",
        "colab": {
          "base_uri": "https://localhost:8080/"
        },
        "outputId": "53ae35c4-b46f-4fe1-b355-688477e5c06d"
      },
      "execution_count": 2,
      "outputs": [
        {
          "output_type": "stream",
          "name": "stdout",
          "text": [
            "python3: can't open file '/content/cost_aware_maximum_finding.py': [Errno 2] No such file or directory\n"
          ]
        }
      ]
    }
  ]
}